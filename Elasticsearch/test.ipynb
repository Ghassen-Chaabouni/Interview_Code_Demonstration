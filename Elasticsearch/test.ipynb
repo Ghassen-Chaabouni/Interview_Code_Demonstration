{
 "cells": [
  {
   "cell_type": "code",
   "execution_count": 1,
   "metadata": {
    "scrolled": true
   },
   "outputs": [
    {
     "name": "stdout",
     "output_type": "stream",
     "text": [
      "Processing c:\\users\\admin\\desktop\\9raya\\stage\\elk\\elasticsearch\\store-elasticsearch v2\\store-elasticsearch\n",
      "Requirement already satisfied: elasticsearch==7.8.0 in c:\\users\\admin\\appdata\\roaming\\python\\python37\\site-packages (from store-elasticsearch==1.0.0) (7.8.0)\n",
      "Requirement already satisfied: urllib3==1.25.9 in c:\\users\\admin\\appdata\\roaming\\python\\python37\\site-packages (from store-elasticsearch==1.0.0) (1.25.9)\n",
      "Requirement already satisfied: click==7.1.2 in c:\\users\\admin\\appdata\\roaming\\python\\python37\\site-packages (from store-elasticsearch==1.0.0) (7.1.2)\n",
      "Requirement already satisfied: tqdm==4.47.0 in c:\\users\\admin\\appdata\\roaming\\python\\python37\\site-packages (from store-elasticsearch==1.0.0) (4.47.0)\n",
      "Requirement already satisfied: pandas==1.0.5 in c:\\users\\admin\\appdata\\roaming\\python\\python37\\site-packages (from store-elasticsearch==1.0.0) (1.0.5)\n",
      "Requirement already satisfied: certifi in c:\\users\\admin\\anaconda3\\envs\\myenv\\lib\\site-packages (from elasticsearch==7.8.0->store-elasticsearch==1.0.0) (2020.6.20)\n",
      "Requirement already satisfied: numpy>=1.13.3 in c:\\users\\admin\\anaconda3\\envs\\myenv\\lib\\site-packages (from pandas==1.0.5->store-elasticsearch==1.0.0) (1.18.5)\n",
      "Requirement already satisfied: pytz>=2017.2 in c:\\users\\admin\\appdata\\roaming\\python\\python37\\site-packages (from pandas==1.0.5->store-elasticsearch==1.0.0) (2020.1)\n",
      "Requirement already satisfied: python-dateutil>=2.6.1 in c:\\users\\admin\\appdata\\roaming\\python\\python37\\site-packages (from pandas==1.0.5->store-elasticsearch==1.0.0) (2.8.1)\n",
      "Requirement already satisfied: six>=1.5 in c:\\users\\admin\\appdata\\roaming\\python\\python37\\site-packages (from python-dateutil>=2.6.1->pandas==1.0.5->store-elasticsearch==1.0.0) (1.15.0)\n",
      "Building wheels for collected packages: store-elasticsearch\n",
      "  Building wheel for store-elasticsearch (setup.py): started\n",
      "  Building wheel for store-elasticsearch (setup.py): finished with status 'done'\n",
      "  Created wheel for store-elasticsearch: filename=store_elasticsearch-1.0.0-py3-none-any.whl size=2773778 sha256=117e0ebaf4a15a92ff384174f9b4f6ddeadd18801de9199e4671f6158a861e7e\n",
      "  Stored in directory: c:\\users\\admin\\appdata\\local\\pip\\cache\\wheels\\11\\1c\\69\\bac2f3317e61cac7095c01d22269722137af7826b15c7731e9\n",
      "Successfully built store-elasticsearch\n",
      "Installing collected packages: store-elasticsearch\n",
      "  Attempting uninstall: store-elasticsearch\n",
      "    Found existing installation: store-elasticsearch 1.0.0\n",
      "    Uninstalling store-elasticsearch-1.0.0:\n",
      "      Successfully uninstalled store-elasticsearch-1.0.0\n",
      "Successfully installed store-elasticsearch-1.0.0\n"
     ]
    }
   ],
   "source": [
    "!pip install --user ."
   ]
  },
  {
   "cell_type": "code",
   "execution_count": 2,
   "metadata": {
    "scrolled": true
   },
   "outputs": [
    {
     "name": "stdout",
     "output_type": "stream",
     "text": [
      "running sdist\n",
      "running egg_info\n",
      "writing store_elasticsearch.egg-info\\PKG-INFO\n",
      "writing dependency_links to store_elasticsearch.egg-info\\dependency_links.txt\n",
      "writing entry points to store_elasticsearch.egg-info\\entry_points.txt\n",
      "writing requirements to store_elasticsearch.egg-info\\requires.txt\n",
      "writing top-level names to store_elasticsearch.egg-info\\top_level.txt\n",
      "reading manifest file 'store_elasticsearch.egg-info\\SOURCES.txt'\n",
      "reading manifest template 'MANIFEST.in'\n",
      "writing manifest file 'store_elasticsearch.egg-info\\SOURCES.txt'\n",
      "running check\n",
      "creating store-elasticsearch-1.0.0\n",
      "creating store-elasticsearch-1.0.0\\store_elasticsearch\n",
      "creating store-elasticsearch-1.0.0\\store_elasticsearch.egg-info\n",
      "creating store-elasticsearch-1.0.0\\store_elasticsearch\\config\n",
      "copying files to store-elasticsearch-1.0.0...\n",
      "copying MANIFEST.in -> store-elasticsearch-1.0.0\n",
      "copying README.md -> store-elasticsearch-1.0.0\n",
      "copying setup.py -> store-elasticsearch-1.0.0\n",
      "copying store_elasticsearch\\__init__.py -> store-elasticsearch-1.0.0\\store_elasticsearch\n",
      "copying store_elasticsearch\\__main__.py -> store-elasticsearch-1.0.0\\store_elasticsearch\n",
      "copying store_elasticsearch\\connect_elasticsearch.py -> store-elasticsearch-1.0.0\\store_elasticsearch\n",
      "copying store_elasticsearch\\create_index.py -> store-elasticsearch-1.0.0\\store_elasticsearch\n",
      "copying store_elasticsearch\\create_tables.py -> store-elasticsearch-1.0.0\\store_elasticsearch\n",
      "copying store_elasticsearch\\store_comment.py -> store-elasticsearch-1.0.0\\store_elasticsearch\n",
      "copying store_elasticsearch\\store_profile.py -> store-elasticsearch-1.0.0\\store_elasticsearch\n",
      "copying store_elasticsearch\\store_row.py -> store-elasticsearch-1.0.0\\store_elasticsearch\n",
      "copying store_elasticsearch.egg-info\\PKG-INFO -> store-elasticsearch-1.0.0\\store_elasticsearch.egg-info\n",
      "copying store_elasticsearch.egg-info\\SOURCES.txt -> store-elasticsearch-1.0.0\\store_elasticsearch.egg-info\n",
      "copying store_elasticsearch.egg-info\\dependency_links.txt -> store-elasticsearch-1.0.0\\store_elasticsearch.egg-info\n",
      "copying store_elasticsearch.egg-info\\entry_points.txt -> store-elasticsearch-1.0.0\\store_elasticsearch.egg-info\n",
      "copying store_elasticsearch.egg-info\\not-zip-safe -> store-elasticsearch-1.0.0\\store_elasticsearch.egg-info\n",
      "copying store_elasticsearch.egg-info\\requires.txt -> store-elasticsearch-1.0.0\\store_elasticsearch.egg-info\n",
      "copying store_elasticsearch.egg-info\\top_level.txt -> store-elasticsearch-1.0.0\\store_elasticsearch.egg-info\n",
      "copying store_elasticsearch\\config\\comment_data.csv -> store-elasticsearch-1.0.0\\store_elasticsearch\\config\n",
      "copying store_elasticsearch\\config\\comment_data.json -> store-elasticsearch-1.0.0\\store_elasticsearch\\config\n",
      "copying store_elasticsearch\\config\\comment_reacts_data.csv -> store-elasticsearch-1.0.0\\store_elasticsearch\\config\n",
      "copying store_elasticsearch\\config\\comment_reacts_data.json -> store-elasticsearch-1.0.0\\store_elasticsearch\\config\n",
      "copying store_elasticsearch\\config\\discord_data.csv -> store-elasticsearch-1.0.0\\store_elasticsearch\\config\n",
      "copying store_elasticsearch\\config\\discord_data_profile.csv -> store-elasticsearch-1.0.0\\store_elasticsearch\\config\n",
      "copying store_elasticsearch\\config\\instagram_data.json -> store-elasticsearch-1.0.0\\store_elasticsearch\\config\n",
      "copying store_elasticsearch\\config\\instagram_data_profile.csv -> store-elasticsearch-1.0.0\\store_elasticsearch\\config\n",
      "copying store_elasticsearch\\config\\post_data.csv -> store-elasticsearch-1.0.0\\store_elasticsearch\\config\n",
      "copying store_elasticsearch\\config\\post_data.json -> store-elasticsearch-1.0.0\\store_elasticsearch\\config\n",
      "copying store_elasticsearch\\config\\post_reacts_data.csv -> store-elasticsearch-1.0.0\\store_elasticsearch\\config\n",
      "copying store_elasticsearch\\config\\post_reacts_data.json -> store-elasticsearch-1.0.0\\store_elasticsearch\\config\n",
      "copying store_elasticsearch\\config\\youtube_data.csv -> store-elasticsearch-1.0.0\\store_elasticsearch\\config\n",
      "copying store_elasticsearch\\config\\youtube_data_profile.csv -> store-elasticsearch-1.0.0\\store_elasticsearch\\config\n",
      "Writing store-elasticsearch-1.0.0\\setup.cfg\n",
      "Creating tar archive\n",
      "removing 'store-elasticsearch-1.0.0' (and everything under it)\n",
      "running bdist_wheel\n",
      "running build\n",
      "running build_py\n",
      "copying store_elasticsearch\\__init__.py -> build\\lib\\store_elasticsearch\n",
      "copying store_elasticsearch\\__main__.py -> build\\lib\\store_elasticsearch\n",
      "installing to build\\bdist.win-amd64\\wheel\n",
      "running install\n",
      "running install_lib\n",
      "creating build\\bdist.win-amd64\\wheel\n",
      "creating build\\bdist.win-amd64\\wheel\\store_elasticsearch\n",
      "creating build\\bdist.win-amd64\\wheel\\store_elasticsearch\\config\n",
      "copying build\\lib\\store_elasticsearch\\config\\comment_data.csv -> build\\bdist.win-amd64\\wheel\\.\\store_elasticsearch\\config\n",
      "copying build\\lib\\store_elasticsearch\\config\\comment_data.json -> build\\bdist.win-amd64\\wheel\\.\\store_elasticsearch\\config\n",
      "copying build\\lib\\store_elasticsearch\\config\\comment_reacts_data.csv -> build\\bdist.win-amd64\\wheel\\.\\store_elasticsearch\\config\n",
      "copying build\\lib\\store_elasticsearch\\config\\comment_reacts_data.json -> build\\bdist.win-amd64\\wheel\\.\\store_elasticsearch\\config\n",
      "copying build\\lib\\store_elasticsearch\\config\\discord_data.csv -> build\\bdist.win-amd64\\wheel\\.\\store_elasticsearch\\config\n",
      "copying build\\lib\\store_elasticsearch\\config\\discord_data.json -> build\\bdist.win-amd64\\wheel\\.\\store_elasticsearch\\config\n",
      "copying build\\lib\\store_elasticsearch\\config\\discord_data_profile.csv -> build\\bdist.win-amd64\\wheel\\.\\store_elasticsearch\\config\n",
      "copying build\\lib\\store_elasticsearch\\config\\instagram_data.json -> build\\bdist.win-amd64\\wheel\\.\\store_elasticsearch\\config\n",
      "copying build\\lib\\store_elasticsearch\\config\\instagram_data_cleaned.csv -> build\\bdist.win-amd64\\wheel\\.\\store_elasticsearch\\config\n",
      "copying build\\lib\\store_elasticsearch\\config\\instagram_data_cleaned.json -> build\\bdist.win-amd64\\wheel\\.\\store_elasticsearch\\config\n",
      "copying build\\lib\\store_elasticsearch\\config\\instagram_data_profile.csv -> build\\bdist.win-amd64\\wheel\\.\\store_elasticsearch\\config\n",
      "copying build\\lib\\store_elasticsearch\\config\\post_data.csv -> build\\bdist.win-amd64\\wheel\\.\\store_elasticsearch\\config\n",
      "copying build\\lib\\store_elasticsearch\\config\\post_data.json -> build\\bdist.win-amd64\\wheel\\.\\store_elasticsearch\\config\n",
      "copying build\\lib\\store_elasticsearch\\config\\post_reacts_data.csv -> build\\bdist.win-amd64\\wheel\\.\\store_elasticsearch\\config\n",
      "copying build\\lib\\store_elasticsearch\\config\\post_reacts_data.json -> build\\bdist.win-amd64\\wheel\\.\\store_elasticsearch\\config\n",
      "copying build\\lib\\store_elasticsearch\\config\\profile_data.csv -> build\\bdist.win-amd64\\wheel\\.\\store_elasticsearch\\config\n",
      "copying build\\lib\\store_elasticsearch\\config\\profile_data.json -> build\\bdist.win-amd64\\wheel\\.\\store_elasticsearch\\config\n",
      "copying build\\lib\\store_elasticsearch\\config\\youtube_data.csv -> build\\bdist.win-amd64\\wheel\\.\\store_elasticsearch\\config\n",
      "copying build\\lib\\store_elasticsearch\\config\\youtube_data.json -> build\\bdist.win-amd64\\wheel\\.\\store_elasticsearch\\config\n",
      "copying build\\lib\\store_elasticsearch\\config\\youtube_data_profile.csv -> build\\bdist.win-amd64\\wheel\\.\\store_elasticsearch\\config\n",
      "copying build\\lib\\store_elasticsearch\\connect_elasticsearch.py -> build\\bdist.win-amd64\\wheel\\.\\store_elasticsearch\n",
      "copying build\\lib\\store_elasticsearch\\create_index.py -> build\\bdist.win-amd64\\wheel\\.\\store_elasticsearch\n",
      "copying build\\lib\\store_elasticsearch\\create_tables.py -> build\\bdist.win-amd64\\wheel\\.\\store_elasticsearch\n",
      "copying build\\lib\\store_elasticsearch\\store_comment.py -> build\\bdist.win-amd64\\wheel\\.\\store_elasticsearch\n",
      "copying build\\lib\\store_elasticsearch\\store_discord_driver.py -> build\\bdist.win-amd64\\wheel\\.\\store_elasticsearch\n",
      "copying build\\lib\\store_elasticsearch\\store_discord_profile.py -> build\\bdist.win-amd64\\wheel\\.\\store_elasticsearch\n",
      "copying build\\lib\\store_elasticsearch\\store_instagram_driver.py -> build\\bdist.win-amd64\\wheel\\.\\store_elasticsearch\n",
      "copying build\\lib\\store_elasticsearch\\store_instagram_profile.py -> build\\bdist.win-amd64\\wheel\\.\\store_elasticsearch\n",
      "copying build\\lib\\store_elasticsearch\\store_profile.py -> build\\bdist.win-amd64\\wheel\\.\\store_elasticsearch\n",
      "copying build\\lib\\store_elasticsearch\\store_row.py -> build\\bdist.win-amd64\\wheel\\.\\store_elasticsearch\n",
      "copying build\\lib\\store_elasticsearch\\store_youtube_driver.py -> build\\bdist.win-amd64\\wheel\\.\\store_elasticsearch\n",
      "copying build\\lib\\store_elasticsearch\\store_youtube_profile.py -> build\\bdist.win-amd64\\wheel\\.\\store_elasticsearch\n",
      "copying build\\lib\\store_elasticsearch\\__init__.py -> build\\bdist.win-amd64\\wheel\\.\\store_elasticsearch\n",
      "copying build\\lib\\store_elasticsearch\\__main__.py -> build\\bdist.win-amd64\\wheel\\.\\store_elasticsearch\n",
      "running install_egg_info\n",
      "Copying store_elasticsearch.egg-info to build\\bdist.win-amd64\\wheel\\.\\store_elasticsearch-1.0.0-py3.7.egg-info\n",
      "running install_scripts\n",
      "creating build\\bdist.win-amd64\\wheel\\store_elasticsearch-1.0.0.dist-info\\WHEEL\n",
      "creating 'dist\\store_elasticsearch-1.0.0-py3-none-any.whl' and adding 'build\\bdist.win-amd64\\wheel' to it\n",
      "adding 'store_elasticsearch/__init__.py'\n",
      "adding 'store_elasticsearch/__main__.py'\n",
      "adding 'store_elasticsearch/connect_elasticsearch.py'\n",
      "adding 'store_elasticsearch/create_index.py'\n",
      "adding 'store_elasticsearch/create_tables.py'\n",
      "adding 'store_elasticsearch/store_comment.py'\n",
      "adding 'store_elasticsearch/store_discord_driver.py'\n",
      "adding 'store_elasticsearch/store_discord_profile.py'\n",
      "adding 'store_elasticsearch/store_instagram_driver.py'\n",
      "adding 'store_elasticsearch/store_instagram_profile.py'\n",
      "adding 'store_elasticsearch/store_profile.py'\n",
      "adding 'store_elasticsearch/store_row.py'\n",
      "adding 'store_elasticsearch/store_youtube_driver.py'\n",
      "adding 'store_elasticsearch/store_youtube_profile.py'\n",
      "adding 'store_elasticsearch/config/comment_data.csv'\n",
      "adding 'store_elasticsearch/config/comment_data.json'\n",
      "adding 'store_elasticsearch/config/comment_reacts_data.csv'\n",
      "adding 'store_elasticsearch/config/comment_reacts_data.json'\n",
      "adding 'store_elasticsearch/config/discord_data.csv'\n",
      "adding 'store_elasticsearch/config/discord_data.json'\n",
      "adding 'store_elasticsearch/config/discord_data_profile.csv'\n",
      "adding 'store_elasticsearch/config/instagram_data.json'\n",
      "adding 'store_elasticsearch/config/instagram_data_cleaned.csv'\n",
      "adding 'store_elasticsearch/config/instagram_data_cleaned.json'\n",
      "adding 'store_elasticsearch/config/instagram_data_profile.csv'\n",
      "adding 'store_elasticsearch/config/post_data.csv'\n",
      "adding 'store_elasticsearch/config/post_data.json'\n",
      "adding 'store_elasticsearch/config/post_reacts_data.csv'\n",
      "adding 'store_elasticsearch/config/post_reacts_data.json'\n",
      "adding 'store_elasticsearch/config/profile_data.csv'\n",
      "adding 'store_elasticsearch/config/profile_data.json'\n",
      "adding 'store_elasticsearch/config/youtube_data.csv'\n",
      "adding 'store_elasticsearch/config/youtube_data.json'\n",
      "adding 'store_elasticsearch/config/youtube_data_profile.csv'\n",
      "adding 'store_elasticsearch-1.0.0.dist-info/METADATA'\n",
      "adding 'store_elasticsearch-1.0.0.dist-info/WHEEL'\n",
      "adding 'store_elasticsearch-1.0.0.dist-info/entry_points.txt'\n",
      "adding 'store_elasticsearch-1.0.0.dist-info/top_level.txt'\n",
      "adding 'store_elasticsearch-1.0.0.dist-info/RECORD'\n",
      "removing build\\bdist.win-amd64\\wheel\n"
     ]
    }
   ],
   "source": [
    "!python setup.py sdist bdist_wheel"
   ]
  },
  {
   "cell_type": "code",
   "execution_count": 3,
   "metadata": {
    "scrolled": true
   },
   "outputs": [
    {
     "name": "stdout",
     "output_type": "stream",
     "text": [
      "Requirement already satisfied: store-elasticsearch==1.0.0 from file:///C:/Users/admin/Desktop/9raya/stage/ELK/elasticsearch/store-elasticsearch%20v2/store-elasticsearch/dist/store_elasticsearch-1.0.0-py3-none-any.whl in c:\\users\\admin\\appdata\\roaming\\python\\python37\\site-packages (1.0.0)\n",
      "Requirement already satisfied: elasticsearch==7.8.0 in c:\\users\\admin\\appdata\\roaming\\python\\python37\\site-packages (from store-elasticsearch==1.0.0) (7.8.0)\n",
      "Requirement already satisfied: tqdm==4.47.0 in c:\\users\\admin\\appdata\\roaming\\python\\python37\\site-packages (from store-elasticsearch==1.0.0) (4.47.0)\n",
      "Requirement already satisfied: click==7.1.2 in c:\\users\\admin\\appdata\\roaming\\python\\python37\\site-packages (from store-elasticsearch==1.0.0) (7.1.2)\n",
      "Requirement already satisfied: urllib3==1.25.9 in c:\\users\\admin\\appdata\\roaming\\python\\python37\\site-packages (from store-elasticsearch==1.0.0) (1.25.9)\n",
      "Requirement already satisfied: pandas==1.0.5 in c:\\users\\admin\\appdata\\roaming\\python\\python37\\site-packages (from store-elasticsearch==1.0.0) (1.0.5)\n",
      "Requirement already satisfied: certifi in c:\\users\\admin\\anaconda3\\envs\\myenv\\lib\\site-packages (from elasticsearch==7.8.0->store-elasticsearch==1.0.0) (2020.6.20)\n",
      "Requirement already satisfied: pytz>=2017.2 in c:\\users\\admin\\appdata\\roaming\\python\\python37\\site-packages (from pandas==1.0.5->store-elasticsearch==1.0.0) (2020.1)\n",
      "Requirement already satisfied: numpy>=1.13.3 in c:\\users\\admin\\anaconda3\\envs\\myenv\\lib\\site-packages (from pandas==1.0.5->store-elasticsearch==1.0.0) (1.18.5)\n",
      "Requirement already satisfied: python-dateutil>=2.6.1 in c:\\users\\admin\\appdata\\roaming\\python\\python37\\site-packages (from pandas==1.0.5->store-elasticsearch==1.0.0) (2.8.1)\n",
      "Requirement already satisfied: six>=1.5 in c:\\users\\admin\\appdata\\roaming\\python\\python37\\site-packages (from python-dateutil>=2.6.1->pandas==1.0.5->store-elasticsearch==1.0.0) (1.15.0)\n"
     ]
    }
   ],
   "source": [
    "!pip install --user dist/store_elasticsearch-1.0.0-py3-none-any.whl"
   ]
  },
  {
   "cell_type": "code",
   "execution_count": 4,
   "metadata": {},
   "outputs": [],
   "source": [
    "import store_elasticsearch"
   ]
  },
  {
   "cell_type": "code",
   "execution_count": 5,
   "metadata": {},
   "outputs": [
    {
     "data": {
      "text/plain": [
       "'1.0.0'"
      ]
     },
     "execution_count": 5,
     "metadata": {},
     "output_type": "execute_result"
    }
   ],
   "source": [
    "store_elasticsearch.__version__"
   ]
  },
  {
   "cell_type": "markdown",
   "metadata": {},
   "source": [
    "<h1> Searching </h1>"
   ]
  },
  {
   "cell_type": "code",
   "execution_count": 9,
   "metadata": {},
   "outputs": [],
   "source": [
    "info = store_elasticsearch.StoreElasticsearch()"
   ]
  },
  {
   "cell_type": "code",
   "execution_count": 10,
   "metadata": {},
   "outputs": [
    {
     "name": "stdout",
     "output_type": "stream",
     "text": [
      "Connect\n",
      "searching for sabora_1998 in profile\n"
     ]
    },
    {
     "data": {
      "text/plain": [
       "{'took': 4,\n",
       " 'timed_out': False,\n",
       " '_shards': {'total': 1, 'successful': 1, 'skipped': 0, 'failed': 0},\n",
       " 'hits': {'total': {'value': 1, 'relation': 'eq'},\n",
       "  'max_score': 0.8025915,\n",
       "  'hits': [{'_index': 'storing_test7-profile',\n",
       "    '_type': '_doc',\n",
       "    '_id': 'tkgM2HMBXgQMyobcLhJr',\n",
       "    '_score': 0.8025915,\n",
       "    '_source': {'author': 'sabora_1998',\n",
       "     'role': 'No data',\n",
       "     'names_data': 'No data',\n",
       "     'links_data': 'No data',\n",
       "     'steam_link': 'No data',\n",
       "     'twitch_link': 'No data',\n",
       "     'spotify_link': 'No data',\n",
       "     'reddit_link': 'No data',\n",
       "     'youtube_link': 'No data',\n",
       "     'steam_name': 'No data',\n",
       "     'twitch_name': 'No data',\n",
       "     'spotify_name': 'No data',\n",
       "     'reddit_name': 'No data',\n",
       "     'youtube_name': 'No data',\n",
       "     'battle_net_name': 'No data',\n",
       "     'facebook_name': 'No data',\n",
       "     'twitter_name': 'No data',\n",
       "     'xbox_live_name': 'No data',\n",
       "     'profileid': '2',\n",
       "     'job_name': 'storing_test7'}}]}}"
      ]
     },
     "execution_count": 10,
     "metadata": {},
     "output_type": "execute_result"
    }
   ],
   "source": [
    "info.search(params={'job_name': 'storing_test7', 'search_by': 'author', 'table_name': 'profile', 'key': 'sabora_1998', \"host\": \"localhost\", \"port\":9200})"
   ]
  },
  {
   "cell_type": "code",
   "execution_count": 15,
   "metadata": {
    "scrolled": true
   },
   "outputs": [
    {
     "name": "stdout",
     "output_type": "stream",
     "text": [
      "Connect\n",
      "searching for 5 in comment\n"
     ]
    },
    {
     "data": {
      "text/plain": [
       "{'took': 1,\n",
       " 'timed_out': False,\n",
       " '_shards': {'total': 1, 'successful': 1, 'skipped': 0, 'failed': 0},\n",
       " 'hits': {'total': {'value': 1, 'relation': 'eq'},\n",
       "  'max_score': 3.637586,\n",
       "  'hits': [{'_index': 'storing_test7-comment',\n",
       "    '_type': '_doc',\n",
       "    '_id': 'zkgM2HMBXgQMyobc2hKA',\n",
       "    '_score': 3.637586,\n",
       "    '_source': {'commentid': '5',\n",
       "     'postid': 'CCeQhk1hDX0',\n",
       "     'author': 'invisible_quest_',\n",
       "     'comment': 'You sir are one great american',\n",
       "     'comment_published_time': 'No data',\n",
       "     'update_time': 'No data',\n",
       "     'number_of_replies': 'No data',\n",
       "     'can_reply': 'No data'}}]}}"
      ]
     },
     "execution_count": 15,
     "metadata": {},
     "output_type": "execute_result"
    }
   ],
   "source": [
    "info.search(params={'job_name': 'storing_test7', 'search_by': 'commentid', 'table_name': 'comment', 'key': '5', \"host\": \"localhost\", \"port\":9200})"
   ]
  },
  {
   "cell_type": "code",
   "execution_count": 10,
   "metadata": {},
   "outputs": [
    {
     "name": "stdout",
     "output_type": "stream",
     "text": [
      "Connect\n",
      "searching for m-euJkoOrvg in profile\n"
     ]
    },
    {
     "data": {
      "text/plain": [
       "{'took': 2,\n",
       " 'timed_out': False,\n",
       " '_shards': {'total': 1, 'successful': 1, 'skipped': 0, 'failed': 0},\n",
       " 'hits': {'total': {'value': 194, 'relation': 'eq'},\n",
       "  'max_score': 3.253426,\n",
       "  'hits': [{'_index': 'storing_test1-profile',\n",
       "    '_type': '_doc',\n",
       "    '_id': 'sUcryHMBXgQMyobcJ_nx',\n",
       "    '_score': 3.253426,\n",
       "    '_source': {'job_name': 'storing_test1',\n",
       "     'commentid': '32',\n",
       "     'postid': 'm-euJkoOrvg',\n",
       "     'author': 'Xenon',\n",
       "     'role': 'No data',\n",
       "     'names_data': 'No data',\n",
       "     'links_data': 'No data',\n",
       "     'steam_link': 'No data',\n",
       "     'twitch_link': 'No data',\n",
       "     'spotify_link': 'No data',\n",
       "     'reddit_link': 'No data',\n",
       "     'youtube_link': 'No data',\n",
       "     'steam_name': 'No data',\n",
       "     'twitch_name': 'No data',\n",
       "     'spotify_name': 'No data',\n",
       "     'reddit_name': 'No data',\n",
       "     'youtube_name': 'No data',\n",
       "     'battle_net_name': 'No data',\n",
       "     'facebook_name': 'No data',\n",
       "     'twitter_name': 'No data',\n",
       "     'xbox_live_name': 'No data'}},\n",
       "   {'_index': 'storing_test1-profile',\n",
       "    '_type': '_doc',\n",
       "    '_id': 'u0cryHMBXgQMyobcL_nA',\n",
       "    '_score': 3.253426,\n",
       "    '_source': {'job_name': 'storing_test1',\n",
       "     'commentid': '34',\n",
       "     'postid': 'm-euJkoOrvg',\n",
       "     'author': 'Aaron Chibb',\n",
       "     'role': 'No data',\n",
       "     'names_data': 'No data',\n",
       "     'links_data': 'No data',\n",
       "     'steam_link': 'No data',\n",
       "     'twitch_link': 'No data',\n",
       "     'spotify_link': 'No data',\n",
       "     'reddit_link': 'No data',\n",
       "     'youtube_link': 'No data',\n",
       "     'steam_name': 'No data',\n",
       "     'twitch_name': 'No data',\n",
       "     'spotify_name': 'No data',\n",
       "     'reddit_name': 'No data',\n",
       "     'youtube_name': 'No data',\n",
       "     'battle_net_name': 'No data',\n",
       "     'facebook_name': 'No data',\n",
       "     'twitter_name': 'No data',\n",
       "     'xbox_live_name': 'No data'}},\n",
       "   {'_index': 'storing_test1-profile',\n",
       "    '_type': '_doc',\n",
       "    '_id': 'wEcryHMBXgQMyobcM_mc',\n",
       "    '_score': 3.253426,\n",
       "    '_source': {'job_name': 'storing_test1',\n",
       "     'commentid': '35',\n",
       "     'postid': 'm-euJkoOrvg',\n",
       "     'author': 'monica quibral',\n",
       "     'role': 'No data',\n",
       "     'names_data': 'No data',\n",
       "     'links_data': 'No data',\n",
       "     'steam_link': 'No data',\n",
       "     'twitch_link': 'No data',\n",
       "     'spotify_link': 'No data',\n",
       "     'reddit_link': 'No data',\n",
       "     'youtube_link': 'No data',\n",
       "     'steam_name': 'No data',\n",
       "     'twitch_name': 'No data',\n",
       "     'spotify_name': 'No data',\n",
       "     'reddit_name': 'No data',\n",
       "     'youtube_name': 'No data',\n",
       "     'battle_net_name': 'No data',\n",
       "     'facebook_name': 'No data',\n",
       "     'twitter_name': 'No data',\n",
       "     'xbox_live_name': 'No data'}},\n",
       "   {'_index': 'storing_test1-profile',\n",
       "    '_type': '_doc',\n",
       "    '_id': 'xUcryHMBXgQMyobcN_lV',\n",
       "    '_score': 3.253426,\n",
       "    '_source': {'job_name': 'storing_test1',\n",
       "     'commentid': '36',\n",
       "     'postid': 'm-euJkoOrvg',\n",
       "     'author': 'MrAcer',\n",
       "     'role': 'No data',\n",
       "     'names_data': 'No data',\n",
       "     'links_data': 'No data',\n",
       "     'steam_link': 'No data',\n",
       "     'twitch_link': 'No data',\n",
       "     'spotify_link': 'No data',\n",
       "     'reddit_link': 'No data',\n",
       "     'youtube_link': 'No data',\n",
       "     'steam_name': 'No data',\n",
       "     'twitch_name': 'No data',\n",
       "     'spotify_name': 'No data',\n",
       "     'reddit_name': 'No data',\n",
       "     'youtube_name': 'No data',\n",
       "     'battle_net_name': 'No data',\n",
       "     'facebook_name': 'No data',\n",
       "     'twitter_name': 'No data',\n",
       "     'xbox_live_name': 'No data'}},\n",
       "   {'_index': 'storing_test1-profile',\n",
       "    '_type': '_doc',\n",
       "    '_id': 'ykcryHMBXgQMyobcO_kP',\n",
       "    '_score': 3.253426,\n",
       "    '_source': {'job_name': 'storing_test1',\n",
       "     'commentid': '37',\n",
       "     'postid': 'm-euJkoOrvg',\n",
       "     'author': 'Eve Sedrish',\n",
       "     'role': 'No data',\n",
       "     'names_data': 'No data',\n",
       "     'links_data': 'No data',\n",
       "     'steam_link': 'No data',\n",
       "     'twitch_link': 'No data',\n",
       "     'spotify_link': 'No data',\n",
       "     'reddit_link': 'No data',\n",
       "     'youtube_link': 'No data',\n",
       "     'steam_name': 'No data',\n",
       "     'twitch_name': 'No data',\n",
       "     'spotify_name': 'No data',\n",
       "     'reddit_name': 'No data',\n",
       "     'youtube_name': 'No data',\n",
       "     'battle_net_name': 'No data',\n",
       "     'facebook_name': 'No data',\n",
       "     'twitter_name': 'No data',\n",
       "     'xbox_live_name': 'No data'}},\n",
       "   {'_index': 'storing_test1-profile',\n",
       "    '_type': '_doc',\n",
       "    '_id': 'z0cryHMBXgQMyobcPvkO',\n",
       "    '_score': 3.253426,\n",
       "    '_source': {'job_name': 'storing_test1',\n",
       "     'commentid': '38',\n",
       "     'postid': 'm-euJkoOrvg',\n",
       "     'author': 'Alias 12',\n",
       "     'role': 'No data',\n",
       "     'names_data': 'No data',\n",
       "     'links_data': 'No data',\n",
       "     'steam_link': 'No data',\n",
       "     'twitch_link': 'No data',\n",
       "     'spotify_link': 'No data',\n",
       "     'reddit_link': 'No data',\n",
       "     'youtube_link': 'No data',\n",
       "     'steam_name': 'No data',\n",
       "     'twitch_name': 'No data',\n",
       "     'spotify_name': 'No data',\n",
       "     'reddit_name': 'No data',\n",
       "     'youtube_name': 'No data',\n",
       "     'battle_net_name': 'No data',\n",
       "     'facebook_name': 'No data',\n",
       "     'twitter_name': 'No data',\n",
       "     'xbox_live_name': 'No data'}},\n",
       "   {'_index': 'storing_test1-profile',\n",
       "    '_type': '_doc',\n",
       "    '_id': '1EcryHMBXgQMyobcQfkg',\n",
       "    '_score': 3.253426,\n",
       "    '_source': {'job_name': 'storing_test1',\n",
       "     'commentid': '39',\n",
       "     'postid': 'm-euJkoOrvg',\n",
       "     'author': 'Mcbreezy',\n",
       "     'role': 'No data',\n",
       "     'names_data': 'No data',\n",
       "     'links_data': 'No data',\n",
       "     'steam_link': 'No data',\n",
       "     'twitch_link': 'No data',\n",
       "     'spotify_link': 'No data',\n",
       "     'reddit_link': 'No data',\n",
       "     'youtube_link': 'No data',\n",
       "     'steam_name': 'No data',\n",
       "     'twitch_name': 'No data',\n",
       "     'spotify_name': 'No data',\n",
       "     'reddit_name': 'No data',\n",
       "     'youtube_name': 'No data',\n",
       "     'battle_net_name': 'No data',\n",
       "     'facebook_name': 'No data',\n",
       "     'twitter_name': 'No data',\n",
       "     'xbox_live_name': 'No data'}},\n",
       "   {'_index': 'storing_test1-profile',\n",
       "    '_type': '_doc',\n",
       "    '_id': '2UcryHMBXgQMyobcRPlA',\n",
       "    '_score': 3.253426,\n",
       "    '_source': {'job_name': 'storing_test1',\n",
       "     'commentid': '40',\n",
       "     'postid': 'm-euJkoOrvg',\n",
       "     'author': 'manoj rock jharkhand',\n",
       "     'role': 'No data',\n",
       "     'names_data': 'No data',\n",
       "     'links_data': 'No data',\n",
       "     'steam_link': 'No data',\n",
       "     'twitch_link': 'No data',\n",
       "     'spotify_link': 'No data',\n",
       "     'reddit_link': 'No data',\n",
       "     'youtube_link': 'No data',\n",
       "     'steam_name': 'No data',\n",
       "     'twitch_name': 'No data',\n",
       "     'spotify_name': 'No data',\n",
       "     'reddit_name': 'No data',\n",
       "     'youtube_name': 'No data',\n",
       "     'battle_net_name': 'No data',\n",
       "     'facebook_name': 'No data',\n",
       "     'twitter_name': 'No data',\n",
       "     'xbox_live_name': 'No data'}},\n",
       "   {'_index': 'storing_test1-profile',\n",
       "    '_type': '_doc',\n",
       "    '_id': '3kcryHMBXgQMyobcR_lU',\n",
       "    '_score': 3.253426,\n",
       "    '_source': {'job_name': 'storing_test1',\n",
       "     'commentid': '41',\n",
       "     'postid': 'm-euJkoOrvg',\n",
       "     'author': 'Djordje Jankovic',\n",
       "     'role': 'No data',\n",
       "     'names_data': 'No data',\n",
       "     'links_data': 'No data',\n",
       "     'steam_link': 'No data',\n",
       "     'twitch_link': 'No data',\n",
       "     'spotify_link': 'No data',\n",
       "     'reddit_link': 'No data',\n",
       "     'youtube_link': 'No data',\n",
       "     'steam_name': 'No data',\n",
       "     'twitch_name': 'No data',\n",
       "     'spotify_name': 'No data',\n",
       "     'reddit_name': 'No data',\n",
       "     'youtube_name': 'No data',\n",
       "     'battle_net_name': 'No data',\n",
       "     'facebook_name': 'No data',\n",
       "     'twitter_name': 'No data',\n",
       "     'xbox_live_name': 'No data'}},\n",
       "   {'_index': 'storing_test1-profile',\n",
       "    '_type': '_doc',\n",
       "    '_id': '40cryHMBXgQMyobcSvk7',\n",
       "    '_score': 3.253426,\n",
       "    '_source': {'job_name': 'storing_test1',\n",
       "     'commentid': '42',\n",
       "     'postid': 'm-euJkoOrvg',\n",
       "     'author': 'Panginoong Jimmy',\n",
       "     'role': 'No data',\n",
       "     'names_data': 'No data',\n",
       "     'links_data': 'No data',\n",
       "     'steam_link': 'No data',\n",
       "     'twitch_link': 'No data',\n",
       "     'spotify_link': 'No data',\n",
       "     'reddit_link': 'No data',\n",
       "     'youtube_link': 'No data',\n",
       "     'steam_name': 'No data',\n",
       "     'twitch_name': 'No data',\n",
       "     'spotify_name': 'No data',\n",
       "     'reddit_name': 'No data',\n",
       "     'youtube_name': 'No data',\n",
       "     'battle_net_name': 'No data',\n",
       "     'facebook_name': 'No data',\n",
       "     'twitter_name': 'No data',\n",
       "     'xbox_live_name': 'No data'}}]}}"
      ]
     },
     "execution_count": 10,
     "metadata": {},
     "output_type": "execute_result"
    }
   ],
   "source": [
    "info.search(params={'job_name': 'storing_test1', 'search_by': 'postid', 'table_name': 'profile', 'key': 'm-euJkoOrvg', \"host\": \"localhost\", \"port\":9200})"
   ]
  },
  {
   "cell_type": "code",
   "execution_count": 16,
   "metadata": {},
   "outputs": [
    {
     "name": "stdout",
     "output_type": "stream",
     "text": [
      "Connect\n",
      "searching for pewdiepie in post\n"
     ]
    },
    {
     "data": {
      "text/plain": [
       "{'took': 1,\n",
       " 'timed_out': False,\n",
       " '_shards': {'total': 1, 'successful': 1, 'skipped': 0, 'failed': 0},\n",
       " 'hits': {'total': {'value': 8, 'relation': 'eq'},\n",
       "  'max_score': 0.7801935,\n",
       "  'hits': [{'_index': 'storing_test5-post',\n",
       "    '_type': '_doc',\n",
       "    '_id': 'Akj213MBXgQMyobczhJw',\n",
       "    '_score': 0.7801935,\n",
       "    '_source': {'postid': 'm-euJkoOrvg',\n",
       "     'channelid': 'No data',\n",
       "     'is_public': 'True',\n",
       "     'viewer_rating': 'none',\n",
       "     'post_publishedAt': 'No data',\n",
       "     'video_title': 'Im 14 and This is Deep...ðŸ˜¢ðŸ˜¢ðŸ˜¢',\n",
       "     'video_description': \"Im 14 and this is deepFloor Gang Merch! https://represent.com/store/pewdiepie (Thank you)Subscribe to become a FLOOR GANG Member here: https://www.youtube.com/channel/UC-lHJZR3Gqxm24_Vd_AJ5Yw/joinGet exclusive epic pewdiepie inside epic access and huge PP!Outro: add Just Die Already as wishlist #ad: https://store.steampowered.com/app/979070/Just_Die_Already/And Check out https://youtu.be/FQgLsYOKP8w Arkade Blaster Pro! #adPewdiepie's Pixelings DOWNLOAD:iOS: https://buff.ly/2pNG0aTAndroid: https://buff.ly/34C68nZ#pewdiepie #pixelingsMinecraft Playlist:https://www.youtube.com/watch?v=mhgS6...My Stores:TSUKI:https://tsuki.market/Merch:https://represent.com/store/pewdiepieI drink GFUEL (affiliate link):https://gfuel.ly/31KargrMy Setup (affiliate links):Chair: https://clutchchairz.com/pewdiepie/Official Razer hardware:Razer Nari Ultimate headset: http://rzr.to/pdp-razer-nari Razer Customs phone cases: http://rzr.to/pdp-razer-caseNordVPN DOWNLOAD (affiliate link):Go to https://NordVPN.com/pewdiepie and use code PEWDIEPIE to get 70% off a 3 year plan plus 1 additional month free.\",\n",
       "     'thumbnail': 'https://i.ytimg.com/vi/m-euJkoOrvg/default.jpg',\n",
       "     'channelTitle': 'PewDiePie',\n",
       "     'tags': \"['SATIRE']\",\n",
       "     'video_duration': 'PT15M44S',\n",
       "     'location': 'No data',\n",
       "     'room_name': 'No data'}},\n",
       "   {'_index': 'storing_test5-post',\n",
       "    '_type': '_doc',\n",
       "    '_id': 'Bkj213MBXgQMyobc0BKF',\n",
       "    '_score': 0.7801935,\n",
       "    '_source': {'postid': 'm-euJkoOrvg',\n",
       "     'channelid': 'No data',\n",
       "     'is_public': 'True',\n",
       "     'viewer_rating': 'none',\n",
       "     'post_publishedAt': 'No data',\n",
       "     'video_title': 'Im 14 and This is Deep...ðŸ˜¢ðŸ˜¢ðŸ˜¢',\n",
       "     'video_description': \"Im 14 and this is deepFloor Gang Merch! https://represent.com/store/pewdiepie (Thank you)Subscribe to become a FLOOR GANG Member here: https://www.youtube.com/channel/UC-lHJZR3Gqxm24_Vd_AJ5Yw/joinGet exclusive epic pewdiepie inside epic access and huge PP!Outro: add Just Die Already as wishlist #ad: https://store.steampowered.com/app/979070/Just_Die_Already/And Check out https://youtu.be/FQgLsYOKP8w Arkade Blaster Pro! #adPewdiepie's Pixelings DOWNLOAD:iOS: https://buff.ly/2pNG0aTAndroid: https://buff.ly/34C68nZ#pewdiepie #pixelingsMinecraft Playlist:https://www.youtube.com/watch?v=mhgS6...My Stores:TSUKI:https://tsuki.market/Merch:https://represent.com/store/pewdiepieI drink GFUEL (affiliate link):https://gfuel.ly/31KargrMy Setup (affiliate links):Chair: https://clutchchairz.com/pewdiepie/Official Razer hardware:Razer Nari Ultimate headset: http://rzr.to/pdp-razer-nari Razer Customs phone cases: http://rzr.to/pdp-razer-caseNordVPN DOWNLOAD (affiliate link):Go to https://NordVPN.com/pewdiepie and use code PEWDIEPIE to get 70% off a 3 year plan plus 1 additional month free.\",\n",
       "     'thumbnail': 'https://i.ytimg.com/vi/m-euJkoOrvg/default.jpg',\n",
       "     'channelTitle': 'PewDiePie',\n",
       "     'tags': \"['SATIRE']\",\n",
       "     'video_duration': 'PT15M44S',\n",
       "     'location': 'No data',\n",
       "     'room_name': 'No data'}},\n",
       "   {'_index': 'storing_test5-post',\n",
       "    '_type': '_doc',\n",
       "    '_id': 'Ckj213MBXgQMyobc0hLQ',\n",
       "    '_score': 0.7801935,\n",
       "    '_source': {'postid': 'm-euJkoOrvg',\n",
       "     'channelid': 'No data',\n",
       "     'is_public': 'True',\n",
       "     'viewer_rating': 'none',\n",
       "     'post_publishedAt': 'No data',\n",
       "     'video_title': 'Im 14 and This is Deep...ðŸ˜¢ðŸ˜¢ðŸ˜¢',\n",
       "     'video_description': \"Im 14 and this is deepFloor Gang Merch! https://represent.com/store/pewdiepie (Thank you)Subscribe to become a FLOOR GANG Member here: https://www.youtube.com/channel/UC-lHJZR3Gqxm24_Vd_AJ5Yw/joinGet exclusive epic pewdiepie inside epic access and huge PP!Outro: add Just Die Already as wishlist #ad: https://store.steampowered.com/app/979070/Just_Die_Already/And Check out https://youtu.be/FQgLsYOKP8w Arkade Blaster Pro! #adPewdiepie's Pixelings DOWNLOAD:iOS: https://buff.ly/2pNG0aTAndroid: https://buff.ly/34C68nZ#pewdiepie #pixelingsMinecraft Playlist:https://www.youtube.com/watch?v=mhgS6...My Stores:TSUKI:https://tsuki.market/Merch:https://represent.com/store/pewdiepieI drink GFUEL (affiliate link):https://gfuel.ly/31KargrMy Setup (affiliate links):Chair: https://clutchchairz.com/pewdiepie/Official Razer hardware:Razer Nari Ultimate headset: http://rzr.to/pdp-razer-nari Razer Customs phone cases: http://rzr.to/pdp-razer-caseNordVPN DOWNLOAD (affiliate link):Go to https://NordVPN.com/pewdiepie and use code PEWDIEPIE to get 70% off a 3 year plan plus 1 additional month free.\",\n",
       "     'thumbnail': 'https://i.ytimg.com/vi/m-euJkoOrvg/default.jpg',\n",
       "     'channelTitle': 'PewDiePie',\n",
       "     'tags': \"['SATIRE']\",\n",
       "     'video_duration': 'PT15M44S',\n",
       "     'location': 'No data',\n",
       "     'room_name': 'No data'}},\n",
       "   {'_index': 'storing_test5-post',\n",
       "    '_type': '_doc',\n",
       "    '_id': 'Dkj213MBXgQMyobc1RJV',\n",
       "    '_score': 0.7801935,\n",
       "    '_source': {'postid': 'm-euJkoOrvg',\n",
       "     'channelid': 'No data',\n",
       "     'is_public': 'True',\n",
       "     'viewer_rating': 'none',\n",
       "     'post_publishedAt': 'No data',\n",
       "     'video_title': 'Im 14 and This is Deep...ðŸ˜¢ðŸ˜¢ðŸ˜¢',\n",
       "     'video_description': \"Im 14 and this is deepFloor Gang Merch! https://represent.com/store/pewdiepie (Thank you)Subscribe to become a FLOOR GANG Member here: https://www.youtube.com/channel/UC-lHJZR3Gqxm24_Vd_AJ5Yw/joinGet exclusive epic pewdiepie inside epic access and huge PP!Outro: add Just Die Already as wishlist #ad: https://store.steampowered.com/app/979070/Just_Die_Already/And Check out https://youtu.be/FQgLsYOKP8w Arkade Blaster Pro! #adPewdiepie's Pixelings DOWNLOAD:iOS: https://buff.ly/2pNG0aTAndroid: https://buff.ly/34C68nZ#pewdiepie #pixelingsMinecraft Playlist:https://www.youtube.com/watch?v=mhgS6...My Stores:TSUKI:https://tsuki.market/Merch:https://represent.com/store/pewdiepieI drink GFUEL (affiliate link):https://gfuel.ly/31KargrMy Setup (affiliate links):Chair: https://clutchchairz.com/pewdiepie/Official Razer hardware:Razer Nari Ultimate headset: http://rzr.to/pdp-razer-nari Razer Customs phone cases: http://rzr.to/pdp-razer-caseNordVPN DOWNLOAD (affiliate link):Go to https://NordVPN.com/pewdiepie and use code PEWDIEPIE to get 70% off a 3 year plan plus 1 additional month free.\",\n",
       "     'thumbnail': 'https://i.ytimg.com/vi/m-euJkoOrvg/default.jpg',\n",
       "     'channelTitle': 'PewDiePie',\n",
       "     'tags': \"['SATIRE']\",\n",
       "     'video_duration': 'PT15M44S',\n",
       "     'location': 'No data',\n",
       "     'room_name': 'No data'}},\n",
       "   {'_index': 'storing_test5-post',\n",
       "    '_type': '_doc',\n",
       "    '_id': 'Ekj213MBXgQMyobc2BIV',\n",
       "    '_score': 0.7801935,\n",
       "    '_source': {'postid': 'm-euJkoOrvg',\n",
       "     'channelid': 'No data',\n",
       "     'is_public': 'True',\n",
       "     'viewer_rating': 'none',\n",
       "     'post_publishedAt': 'No data',\n",
       "     'video_title': 'Im 14 and This is Deep...ðŸ˜¢ðŸ˜¢ðŸ˜¢',\n",
       "     'video_description': \"Im 14 and this is deepFloor Gang Merch! https://represent.com/store/pewdiepie (Thank you)Subscribe to become a FLOOR GANG Member here: https://www.youtube.com/channel/UC-lHJZR3Gqxm24_Vd_AJ5Yw/joinGet exclusive epic pewdiepie inside epic access and huge PP!Outro: add Just Die Already as wishlist #ad: https://store.steampowered.com/app/979070/Just_Die_Already/And Check out https://youtu.be/FQgLsYOKP8w Arkade Blaster Pro! #adPewdiepie's Pixelings DOWNLOAD:iOS: https://buff.ly/2pNG0aTAndroid: https://buff.ly/34C68nZ#pewdiepie #pixelingsMinecraft Playlist:https://www.youtube.com/watch?v=mhgS6...My Stores:TSUKI:https://tsuki.market/Merch:https://represent.com/store/pewdiepieI drink GFUEL (affiliate link):https://gfuel.ly/31KargrMy Setup (affiliate links):Chair: https://clutchchairz.com/pewdiepie/Official Razer hardware:Razer Nari Ultimate headset: http://rzr.to/pdp-razer-nari Razer Customs phone cases: http://rzr.to/pdp-razer-caseNordVPN DOWNLOAD (affiliate link):Go to https://NordVPN.com/pewdiepie and use code PEWDIEPIE to get 70% off a 3 year plan plus 1 additional month free.\",\n",
       "     'thumbnail': 'https://i.ytimg.com/vi/m-euJkoOrvg/default.jpg',\n",
       "     'channelTitle': 'PewDiePie',\n",
       "     'tags': \"['SATIRE']\",\n",
       "     'video_duration': 'PT15M44S',\n",
       "     'location': 'No data',\n",
       "     'room_name': 'No data'}},\n",
       "   {'_index': 'storing_test5-post',\n",
       "    '_type': '_doc',\n",
       "    '_id': 'Fkj213MBXgQMyobc2hJz',\n",
       "    '_score': 0.7801935,\n",
       "    '_source': {'postid': 'm-euJkoOrvg',\n",
       "     'channelid': 'No data',\n",
       "     'is_public': 'True',\n",
       "     'viewer_rating': 'none',\n",
       "     'post_publishedAt': 'No data',\n",
       "     'video_title': 'Im 14 and This is Deep...ðŸ˜¢ðŸ˜¢ðŸ˜¢',\n",
       "     'video_description': \"Im 14 and this is deepFloor Gang Merch! https://represent.com/store/pewdiepie (Thank you)Subscribe to become a FLOOR GANG Member here: https://www.youtube.com/channel/UC-lHJZR3Gqxm24_Vd_AJ5Yw/joinGet exclusive epic pewdiepie inside epic access and huge PP!Outro: add Just Die Already as wishlist #ad: https://store.steampowered.com/app/979070/Just_Die_Already/And Check out https://youtu.be/FQgLsYOKP8w Arkade Blaster Pro! #adPewdiepie's Pixelings DOWNLOAD:iOS: https://buff.ly/2pNG0aTAndroid: https://buff.ly/34C68nZ#pewdiepie #pixelingsMinecraft Playlist:https://www.youtube.com/watch?v=mhgS6...My Stores:TSUKI:https://tsuki.market/Merch:https://represent.com/store/pewdiepieI drink GFUEL (affiliate link):https://gfuel.ly/31KargrMy Setup (affiliate links):Chair: https://clutchchairz.com/pewdiepie/Official Razer hardware:Razer Nari Ultimate headset: http://rzr.to/pdp-razer-nari Razer Customs phone cases: http://rzr.to/pdp-razer-caseNordVPN DOWNLOAD (affiliate link):Go to https://NordVPN.com/pewdiepie and use code PEWDIEPIE to get 70% off a 3 year plan plus 1 additional month free.\",\n",
       "     'thumbnail': 'https://i.ytimg.com/vi/m-euJkoOrvg/default.jpg',\n",
       "     'channelTitle': 'PewDiePie',\n",
       "     'tags': \"['SATIRE']\",\n",
       "     'video_duration': 'PT15M44S',\n",
       "     'location': 'No data',\n",
       "     'room_name': 'No data'}},\n",
       "   {'_index': 'storing_test5-post',\n",
       "    '_type': '_doc',\n",
       "    '_id': 'Gkj213MBXgQMyobc3BLq',\n",
       "    '_score': 0.7801935,\n",
       "    '_source': {'postid': 'm-euJkoOrvg',\n",
       "     'channelid': 'No data',\n",
       "     'is_public': 'True',\n",
       "     'viewer_rating': 'none',\n",
       "     'post_publishedAt': 'No data',\n",
       "     'video_title': 'Im 14 and This is Deep...ðŸ˜¢ðŸ˜¢ðŸ˜¢',\n",
       "     'video_description': \"Im 14 and this is deepFloor Gang Merch! https://represent.com/store/pewdiepie (Thank you)Subscribe to become a FLOOR GANG Member here: https://www.youtube.com/channel/UC-lHJZR3Gqxm24_Vd_AJ5Yw/joinGet exclusive epic pewdiepie inside epic access and huge PP!Outro: add Just Die Already as wishlist #ad: https://store.steampowered.com/app/979070/Just_Die_Already/And Check out https://youtu.be/FQgLsYOKP8w Arkade Blaster Pro! #adPewdiepie's Pixelings DOWNLOAD:iOS: https://buff.ly/2pNG0aTAndroid: https://buff.ly/34C68nZ#pewdiepie #pixelingsMinecraft Playlist:https://www.youtube.com/watch?v=mhgS6...My Stores:TSUKI:https://tsuki.market/Merch:https://represent.com/store/pewdiepieI drink GFUEL (affiliate link):https://gfuel.ly/31KargrMy Setup (affiliate links):Chair: https://clutchchairz.com/pewdiepie/Official Razer hardware:Razer Nari Ultimate headset: http://rzr.to/pdp-razer-nari Razer Customs phone cases: http://rzr.to/pdp-razer-caseNordVPN DOWNLOAD (affiliate link):Go to https://NordVPN.com/pewdiepie and use code PEWDIEPIE to get 70% off a 3 year plan plus 1 additional month free.\",\n",
       "     'thumbnail': 'https://i.ytimg.com/vi/m-euJkoOrvg/default.jpg',\n",
       "     'channelTitle': 'PewDiePie',\n",
       "     'tags': \"['SATIRE']\",\n",
       "     'video_duration': 'PT15M44S',\n",
       "     'location': 'No data',\n",
       "     'room_name': 'No data'}},\n",
       "   {'_index': 'storing_test5-post',\n",
       "    '_type': '_doc',\n",
       "    '_id': 'Hkj213MBXgQMyobc4BIr',\n",
       "    '_score': 0.7801935,\n",
       "    '_source': {'postid': 'm-euJkoOrvg',\n",
       "     'channelid': 'No data',\n",
       "     'is_public': 'True',\n",
       "     'viewer_rating': 'none',\n",
       "     'post_publishedAt': 'No data',\n",
       "     'video_title': 'Im 14 and This is Deep...ðŸ˜¢ðŸ˜¢ðŸ˜¢',\n",
       "     'video_description': \"Im 14 and this is deepFloor Gang Merch! https://represent.com/store/pewdiepie (Thank you)Subscribe to become a FLOOR GANG Member here: https://www.youtube.com/channel/UC-lHJZR3Gqxm24_Vd_AJ5Yw/joinGet exclusive epic pewdiepie inside epic access and huge PP!Outro: add Just Die Already as wishlist #ad: https://store.steampowered.com/app/979070/Just_Die_Already/And Check out https://youtu.be/FQgLsYOKP8w Arkade Blaster Pro! #adPewdiepie's Pixelings DOWNLOAD:iOS: https://buff.ly/2pNG0aTAndroid: https://buff.ly/34C68nZ#pewdiepie #pixelingsMinecraft Playlist:https://www.youtube.com/watch?v=mhgS6...My Stores:TSUKI:https://tsuki.market/Merch:https://represent.com/store/pewdiepieI drink GFUEL (affiliate link):https://gfuel.ly/31KargrMy Setup (affiliate links):Chair: https://clutchchairz.com/pewdiepie/Official Razer hardware:Razer Nari Ultimate headset: http://rzr.to/pdp-razer-nari Razer Customs phone cases: http://rzr.to/pdp-razer-caseNordVPN DOWNLOAD (affiliate link):Go to https://NordVPN.com/pewdiepie and use code PEWDIEPIE to get 70% off a 3 year plan plus 1 additional month free.\",\n",
       "     'thumbnail': 'https://i.ytimg.com/vi/m-euJkoOrvg/default.jpg',\n",
       "     'channelTitle': 'PewDiePie',\n",
       "     'tags': \"['SATIRE']\",\n",
       "     'video_duration': 'PT15M44S',\n",
       "     'location': 'No data',\n",
       "     'room_name': 'No data'}}]}}"
      ]
     },
     "execution_count": 16,
     "metadata": {},
     "output_type": "execute_result"
    }
   ],
   "source": [
    "info.search(params={'job_name': 'storing_test5', 'search_by': 'channelTitle', 'table_name': 'post', 'key': 'pewdiepie', \"host\": \"localhost\", \"port\":9200})"
   ]
  },
  {
   "cell_type": "code",
   "execution_count": 12,
   "metadata": {},
   "outputs": [
    {
     "name": "stdout",
     "output_type": "stream",
     "text": [
      "Connect\n",
      "searching for concerned in comment\n"
     ]
    },
    {
     "data": {
      "text/plain": [
       "{'took': 196,\n",
       " 'timed_out': False,\n",
       " '_shards': {'total': 1, 'successful': 1, 'skipped': 0, 'failed': 0},\n",
       " 'hits': {'total': {'value': 1, 'relation': 'eq'},\n",
       "  'max_score': 8.582546,\n",
       "  'hits': [{'_index': 'storing_test1-comment',\n",
       "    '_type': '_doc',\n",
       "    '_id': 'sEg2yHMBXgQMyobcGweu',\n",
       "    '_score': 8.582546,\n",
       "    '_source': {'commentid': '748',\n",
       "     'postid': 'CChsaSjBobU',\n",
       "     'comment': \"I'm concerned about BidenðŸ˜¬\",\n",
       "     'comment_published_time': 'No data',\n",
       "     'update_time': 'No data',\n",
       "     'number_of_replies': 'No data',\n",
       "     'can_reply': 'No data'}}]}}"
      ]
     },
     "execution_count": 12,
     "metadata": {},
     "output_type": "execute_result"
    }
   ],
   "source": [
    "info.search(params={'job_name': 'storing_test1', 'search_by': 'comment', 'table_name': 'comment', 'key': 'concerned', \"host\": \"localhost\", \"port\":9200})"
   ]
  },
  {
   "cell_type": "markdown",
   "metadata": {},
   "source": [
    "<h1> Storing </h1>"
   ]
  },
  {
   "cell_type": "markdown",
   "metadata": {},
   "source": [
    "<h2> Using click</h2>"
   ]
  },
  {
   "cell_type": "code",
   "execution_count": 6,
   "metadata": {},
   "outputs": [
    {
     "name": "stdout",
     "output_type": "stream",
     "text": [
      "Usage: store-elasticsearch [OPTIONS]\n",
      "\n",
      "  Store data in Elasticsearch.\n",
      "\n",
      "Options:\n",
      "  --job_name TEXT     The job name.\n",
      "  --data_type TEXT    profile or comment\n",
      "  --driver_name TEXT  driver name: youtube or instagram or discord\n",
      "  --help              Show this message and exit.\n"
     ]
    }
   ],
   "source": [
    "!store-elasticsearch --help"
   ]
  },
  {
   "cell_type": "code",
   "execution_count": null,
   "metadata": {},
   "outputs": [],
   "source": [
    "!store-elasticsearch --job_name storing_test8 --data_type profile --driver_name youtube"
   ]
  },
  {
   "cell_type": "markdown",
   "metadata": {},
   "source": [
    "<h2> Using functions </h2>"
   ]
  },
  {
   "cell_type": "code",
   "execution_count": 6,
   "metadata": {},
   "outputs": [
    {
     "name": "stdout",
     "output_type": "stream",
     "text": [
      "Connect\n",
      "Connect\n",
      "index: storing_test8-profile\n",
      "index: storing_test8-comment\n",
      "index: storing_test8-post\n",
      "index: storing_test8-post_reacts\n",
      "index: storing_test8-comment_reacts\n",
      "Created Index\n",
      "Created Index\n",
      "Created Index\n",
      "Created Index\n"
     ]
    },
    {
     "name": "stderr",
     "output_type": "stream",
     "text": [
      " 50%|â–ˆâ–ˆâ–ˆâ–ˆâ–ˆâ–ˆâ–ˆâ–ˆâ–ˆâ–ˆâ–ˆâ–ˆâ–ˆâ–ˆâ–ˆâ–ˆâ–ˆâ–ˆâ–ˆâ–ˆâ–ˆâ–ˆâ–ˆâ–ˆâ–ˆâ–ˆâ–ˆâ–ˆâ–ˆâ–ˆâ–ˆâ–ˆâ–ˆâ–ˆâ–ˆâ–ˆâ–ˆâ–ˆâ–ˆâ–ˆâ–ˆâ–ˆ                                          | 1/2 [00:00<00:00,  7.98it/s]"
     ]
    },
    {
     "name": "stdout",
     "output_type": "stream",
     "text": [
      "Created Index\n",
      "Storing youtube data\n"
     ]
    },
    {
     "name": "stderr",
     "output_type": "stream",
     "text": [
      "100%|â–ˆâ–ˆâ–ˆâ–ˆâ–ˆâ–ˆâ–ˆâ–ˆâ–ˆâ–ˆâ–ˆâ–ˆâ–ˆâ–ˆâ–ˆâ–ˆâ–ˆâ–ˆâ–ˆâ–ˆâ–ˆâ–ˆâ–ˆâ–ˆâ–ˆâ–ˆâ–ˆâ–ˆâ–ˆâ–ˆâ–ˆâ–ˆâ–ˆâ–ˆâ–ˆâ–ˆâ–ˆâ–ˆâ–ˆâ–ˆâ–ˆâ–ˆâ–ˆâ–ˆâ–ˆâ–ˆâ–ˆâ–ˆâ–ˆâ–ˆâ–ˆâ–ˆâ–ˆâ–ˆâ–ˆâ–ˆâ–ˆâ–ˆâ–ˆâ–ˆâ–ˆâ–ˆâ–ˆâ–ˆâ–ˆâ–ˆâ–ˆâ–ˆâ–ˆâ–ˆâ–ˆâ–ˆâ–ˆâ–ˆâ–ˆâ–ˆâ–ˆâ–ˆâ–ˆâ–ˆâ–ˆâ–ˆâ–ˆâ–ˆ| 2/2 [00:00<00:00,  7.72it/s]\n"
     ]
    }
   ],
   "source": [
    "data = [{\"author\": \"test name\", \n",
    "         \"role\": \"No data\", \n",
    "         \"names_data\": \"No data\", \n",
    "         \"links_data\": \"No data\", \n",
    "         \"steam_link\": \"No data\", \n",
    "         \"twitch_link\": \"No data\", \n",
    "         \"spotify_link\": \"No data\", \n",
    "         \"reddit_link\": \"No data\", \n",
    "         \"youtube_link\": \"No data\", \n",
    "         \"steam_name\": \"No data\", \n",
    "         \"twitch_name\": \"No data\", \n",
    "         \"spotify_name\": \"No data\", \n",
    "         \"reddit_name\": \"No data\", \n",
    "         \"youtube_name\": \"No data\", \n",
    "         \"battle_net_name\": \"No data\", \n",
    "         \"facebook_name\": \"No data\", \n",
    "         \"twitter_name\": \"No data\", \n",
    "         \"xbox_live_name\": \"No data\"\n",
    "        }, \n",
    "        {\"author\": \"sabora_1998\", \n",
    "         \"role\": \"No data\", \n",
    "         \"names_data\": \"No data\", \n",
    "         \"links_data\": \"No data\", \n",
    "         \"steam_link\": \"No data\", \n",
    "         \"twitch_link\": \"No data\", \n",
    "         \"spotify_link\": \"No data\", \n",
    "         \"reddit_link\": \"No data\", \n",
    "         \"youtube_link\": \"No data\", \n",
    "         \"steam_name\": \"No data\", \n",
    "         \"twitch_name\": \"No data\", \n",
    "         \"spotify_name\": \"No data\", \n",
    "         \"reddit_name\": \"No data\", \n",
    "         \"youtube_name\": \"No data\", \n",
    "         \"battle_net_name\": \"No data\", \n",
    "         \"facebook_name\": \"No data\", \n",
    "         \"twitter_name\": \"No data\", \n",
    "         \"xbox_live_name\": \"No data\"\n",
    "        }]\n",
    "\n",
    "job_name = \"storing_test8\"\n",
    "driver_name = \"youtube\"\n",
    "storeProfile = store_elasticsearch.StoreProfile(job_name, driver_name, data, \"localhost\", 9200)\n",
    "storeProfile.store_profile()"
   ]
  },
  {
   "cell_type": "code",
   "execution_count": 7,
   "metadata": {
    "scrolled": true
   },
   "outputs": [
    {
     "name": "stdout",
     "output_type": "stream",
     "text": [
      "Connect\n",
      "Connect\n",
      "index: storing_test8-profile\n",
      "index: storing_test8-comment\n",
      "index: storing_test8-post\n",
      "index: storing_test8-post_reacts\n",
      "index: storing_test8-comment_reacts\n"
     ]
    },
    {
     "name": "stderr",
     "output_type": "stream",
     "text": [
      "\r",
      "  0%|                                                                                          | 0/482 [00:00<?, ?it/s]"
     ]
    },
    {
     "name": "stdout",
     "output_type": "stream",
     "text": [
      "Storing discord data\n"
     ]
    },
    {
     "name": "stderr",
     "output_type": "stream",
     "text": [
      "  1%|â–Š                                                                                 | 5/482 [00:06<09:39,  1.22s/it]\n"
     ]
    },
    {
     "ename": "KeyboardInterrupt",
     "evalue": "",
     "output_type": "error",
     "traceback": [
      "\u001b[1;31m---------------------------------------------------------------------------\u001b[0m",
      "\u001b[1;31mKeyboardInterrupt\u001b[0m                         Traceback (most recent call last)",
      "\u001b[1;32m<ipython-input-7-d44e4f91a18d>\u001b[0m in \u001b[0;36m<module>\u001b[1;34m\u001b[0m\n\u001b[0;32m      2\u001b[0m \u001b[0mdriver_name\u001b[0m \u001b[1;33m=\u001b[0m \u001b[1;34m\"discord\"\u001b[0m     \u001b[1;31m# discord, youtube, instagram\u001b[0m\u001b[1;33m\u001b[0m\u001b[1;33m\u001b[0m\u001b[0m\n\u001b[0;32m      3\u001b[0m \u001b[0mstoreComment\u001b[0m \u001b[1;33m=\u001b[0m \u001b[0mstore_elasticsearch\u001b[0m\u001b[1;33m.\u001b[0m\u001b[0mStoreComment\u001b[0m\u001b[1;33m(\u001b[0m\u001b[0mjob_name\u001b[0m\u001b[1;33m,\u001b[0m \u001b[0mdriver_name\u001b[0m\u001b[1;33m,\u001b[0m \u001b[1;34m\"localhost\"\u001b[0m\u001b[1;33m,\u001b[0m \u001b[1;36m9200\u001b[0m\u001b[1;33m)\u001b[0m\u001b[1;33m\u001b[0m\u001b[1;33m\u001b[0m\u001b[0m\n\u001b[1;32m----> 4\u001b[1;33m \u001b[0mstoreComment\u001b[0m\u001b[1;33m.\u001b[0m\u001b[0mstore_comment\u001b[0m\u001b[1;33m(\u001b[0m\u001b[1;33m)\u001b[0m\u001b[1;33m\u001b[0m\u001b[1;33m\u001b[0m\u001b[0m\n\u001b[0m",
      "\u001b[1;32m~\\Desktop\\9raya\\stage\\ELK\\elasticsearch\\store-elasticsearch v2\\store-elasticsearch\\store_elasticsearch\\store_comment.py\u001b[0m in \u001b[0;36mstore_comment\u001b[1;34m(self)\u001b[0m\n\u001b[0;32m    146\u001b[0m             \u001b[0mstoreRow_comment\u001b[0m\u001b[1;33m.\u001b[0m\u001b[0mstore_row\u001b[0m\u001b[1;33m(\u001b[0m\u001b[0mcomment_data\u001b[0m\u001b[1;33m[\u001b[0m\u001b[0mi\u001b[0m\u001b[1;33m]\u001b[0m\u001b[1;33m)\u001b[0m\u001b[1;33m\u001b[0m\u001b[1;33m\u001b[0m\u001b[0m\n\u001b[0;32m    147\u001b[0m             \u001b[0mstoreRow_post\u001b[0m\u001b[1;33m.\u001b[0m\u001b[0mstore_row\u001b[0m\u001b[1;33m(\u001b[0m\u001b[0mpost_data\u001b[0m\u001b[1;33m[\u001b[0m\u001b[0mi\u001b[0m\u001b[1;33m]\u001b[0m\u001b[1;33m)\u001b[0m\u001b[1;33m\u001b[0m\u001b[1;33m\u001b[0m\u001b[0m\n\u001b[1;32m--> 148\u001b[1;33m             \u001b[0mstoreRow_post_reacts\u001b[0m\u001b[1;33m.\u001b[0m\u001b[0mstore_row\u001b[0m\u001b[1;33m(\u001b[0m\u001b[0mpost_reacts_data\u001b[0m\u001b[1;33m[\u001b[0m\u001b[0mi\u001b[0m\u001b[1;33m]\u001b[0m\u001b[1;33m)\u001b[0m\u001b[1;33m\u001b[0m\u001b[1;33m\u001b[0m\u001b[0m\n\u001b[0m\u001b[0;32m    149\u001b[0m             \u001b[0mstoreRow_comment_reacts\u001b[0m\u001b[1;33m.\u001b[0m\u001b[0mstore_row\u001b[0m\u001b[1;33m(\u001b[0m\u001b[0mcomment_reacts_data\u001b[0m\u001b[1;33m[\u001b[0m\u001b[0mi\u001b[0m\u001b[1;33m]\u001b[0m\u001b[1;33m)\u001b[0m\u001b[1;33m\u001b[0m\u001b[1;33m\u001b[0m\u001b[0m\n\u001b[0;32m    150\u001b[0m \u001b[1;33m\u001b[0m\u001b[0m\n",
      "\u001b[1;32m~\\Desktop\\9raya\\stage\\ELK\\elasticsearch\\store-elasticsearch v2\\store-elasticsearch\\store_elasticsearch\\store_row.py\u001b[0m in \u001b[0;36mstore_row\u001b[1;34m(self, data_row)\u001b[0m\n\u001b[0;32m     23\u001b[0m \u001b[1;33m\u001b[0m\u001b[0m\n\u001b[0;32m     24\u001b[0m         \u001b[1;32mtry\u001b[0m\u001b[1;33m:\u001b[0m\u001b[1;33m\u001b[0m\u001b[1;33m\u001b[0m\u001b[0m\n\u001b[1;32m---> 25\u001b[1;33m             \u001b[0moutcome\u001b[0m \u001b[1;33m=\u001b[0m \u001b[0mself\u001b[0m\u001b[1;33m.\u001b[0m\u001b[0mes_object\u001b[0m\u001b[1;33m.\u001b[0m\u001b[0mindex\u001b[0m\u001b[1;33m(\u001b[0m\u001b[0mindex\u001b[0m\u001b[1;33m=\u001b[0m\u001b[0mself\u001b[0m\u001b[1;33m.\u001b[0m\u001b[0mindex_name\u001b[0m\u001b[1;33m,\u001b[0m \u001b[0mdoc_type\u001b[0m\u001b[1;33m=\u001b[0m\u001b[1;34m'_doc'\u001b[0m\u001b[1;33m,\u001b[0m \u001b[0mbody\u001b[0m\u001b[1;33m=\u001b[0m\u001b[0mdata_row\u001b[0m\u001b[1;33m)\u001b[0m   \u001b[1;31m# Store the data in Elasticsearch.\u001b[0m\u001b[1;33m\u001b[0m\u001b[1;33m\u001b[0m\u001b[0m\n\u001b[0m\u001b[0;32m     26\u001b[0m \u001b[1;33m\u001b[0m\u001b[0m\n\u001b[0;32m     27\u001b[0m         \u001b[1;32mexcept\u001b[0m \u001b[0mException\u001b[0m \u001b[1;32mas\u001b[0m \u001b[0mex\u001b[0m\u001b[1;33m:\u001b[0m\u001b[1;33m\u001b[0m\u001b[1;33m\u001b[0m\u001b[0m\n",
      "\u001b[1;32m~\\AppData\\Roaming\\Python\\Python37\\site-packages\\elasticsearch\\client\\utils.py\u001b[0m in \u001b[0;36m_wrapped\u001b[1;34m(*args, **kwargs)\u001b[0m\n\u001b[0;32m    137\u001b[0m                 \u001b[1;32mif\u001b[0m \u001b[0mp\u001b[0m \u001b[1;32min\u001b[0m \u001b[0mkwargs\u001b[0m\u001b[1;33m:\u001b[0m\u001b[1;33m\u001b[0m\u001b[1;33m\u001b[0m\u001b[0m\n\u001b[0;32m    138\u001b[0m                     \u001b[0mparams\u001b[0m\u001b[1;33m[\u001b[0m\u001b[0mp\u001b[0m\u001b[1;33m]\u001b[0m \u001b[1;33m=\u001b[0m \u001b[0mkwargs\u001b[0m\u001b[1;33m.\u001b[0m\u001b[0mpop\u001b[0m\u001b[1;33m(\u001b[0m\u001b[0mp\u001b[0m\u001b[1;33m)\u001b[0m\u001b[1;33m\u001b[0m\u001b[1;33m\u001b[0m\u001b[0m\n\u001b[1;32m--> 139\u001b[1;33m             \u001b[1;32mreturn\u001b[0m \u001b[0mfunc\u001b[0m\u001b[1;33m(\u001b[0m\u001b[1;33m*\u001b[0m\u001b[0margs\u001b[0m\u001b[1;33m,\u001b[0m \u001b[0mparams\u001b[0m\u001b[1;33m=\u001b[0m\u001b[0mparams\u001b[0m\u001b[1;33m,\u001b[0m \u001b[0mheaders\u001b[0m\u001b[1;33m=\u001b[0m\u001b[0mheaders\u001b[0m\u001b[1;33m,\u001b[0m \u001b[1;33m**\u001b[0m\u001b[0mkwargs\u001b[0m\u001b[1;33m)\u001b[0m\u001b[1;33m\u001b[0m\u001b[1;33m\u001b[0m\u001b[0m\n\u001b[0m\u001b[0;32m    140\u001b[0m \u001b[1;33m\u001b[0m\u001b[0m\n\u001b[0;32m    141\u001b[0m         \u001b[1;32mreturn\u001b[0m \u001b[0m_wrapped\u001b[0m\u001b[1;33m\u001b[0m\u001b[1;33m\u001b[0m\u001b[0m\n",
      "\u001b[1;32m~\\AppData\\Roaming\\Python\\Python37\\site-packages\\elasticsearch\\client\\__init__.py\u001b[0m in \u001b[0;36mindex\u001b[1;34m(self, index, body, doc_type, id, params, headers)\u001b[0m\n\u001b[0;32m    378\u001b[0m             \u001b[0mparams\u001b[0m\u001b[1;33m=\u001b[0m\u001b[0mparams\u001b[0m\u001b[1;33m,\u001b[0m\u001b[1;33m\u001b[0m\u001b[1;33m\u001b[0m\u001b[0m\n\u001b[0;32m    379\u001b[0m             \u001b[0mheaders\u001b[0m\u001b[1;33m=\u001b[0m\u001b[0mheaders\u001b[0m\u001b[1;33m,\u001b[0m\u001b[1;33m\u001b[0m\u001b[1;33m\u001b[0m\u001b[0m\n\u001b[1;32m--> 380\u001b[1;33m             \u001b[0mbody\u001b[0m\u001b[1;33m=\u001b[0m\u001b[0mbody\u001b[0m\u001b[1;33m,\u001b[0m\u001b[1;33m\u001b[0m\u001b[1;33m\u001b[0m\u001b[0m\n\u001b[0m\u001b[0;32m    381\u001b[0m         )\n\u001b[0;32m    382\u001b[0m \u001b[1;33m\u001b[0m\u001b[0m\n",
      "\u001b[1;32m~\\AppData\\Roaming\\Python\\Python37\\site-packages\\elasticsearch\\transport.py\u001b[0m in \u001b[0;36mperform_request\u001b[1;34m(self, method, url, headers, params, body)\u001b[0m\n\u001b[0;32m    350\u001b[0m                     \u001b[0mheaders\u001b[0m\u001b[1;33m=\u001b[0m\u001b[0mheaders\u001b[0m\u001b[1;33m,\u001b[0m\u001b[1;33m\u001b[0m\u001b[1;33m\u001b[0m\u001b[0m\n\u001b[0;32m    351\u001b[0m                     \u001b[0mignore\u001b[0m\u001b[1;33m=\u001b[0m\u001b[0mignore\u001b[0m\u001b[1;33m,\u001b[0m\u001b[1;33m\u001b[0m\u001b[1;33m\u001b[0m\u001b[0m\n\u001b[1;32m--> 352\u001b[1;33m                     \u001b[0mtimeout\u001b[0m\u001b[1;33m=\u001b[0m\u001b[0mtimeout\u001b[0m\u001b[1;33m,\u001b[0m\u001b[1;33m\u001b[0m\u001b[1;33m\u001b[0m\u001b[0m\n\u001b[0m\u001b[0;32m    353\u001b[0m                 )\n\u001b[0;32m    354\u001b[0m \u001b[1;33m\u001b[0m\u001b[0m\n",
      "\u001b[1;32m~\\AppData\\Roaming\\Python\\Python37\\site-packages\\elasticsearch\\connection\\http_urllib3.py\u001b[0m in \u001b[0;36mperform_request\u001b[1;34m(self, method, url, params, body, timeout, ignore, headers)\u001b[0m\n\u001b[0;32m    231\u001b[0m \u001b[1;33m\u001b[0m\u001b[0m\n\u001b[0;32m    232\u001b[0m             response = self.pool.urlopen(\n\u001b[1;32m--> 233\u001b[1;33m                 \u001b[0mmethod\u001b[0m\u001b[1;33m,\u001b[0m \u001b[0murl\u001b[0m\u001b[1;33m,\u001b[0m \u001b[0mbody\u001b[0m\u001b[1;33m,\u001b[0m \u001b[0mretries\u001b[0m\u001b[1;33m=\u001b[0m\u001b[0mRetry\u001b[0m\u001b[1;33m(\u001b[0m\u001b[1;32mFalse\u001b[0m\u001b[1;33m)\u001b[0m\u001b[1;33m,\u001b[0m \u001b[0mheaders\u001b[0m\u001b[1;33m=\u001b[0m\u001b[0mrequest_headers\u001b[0m\u001b[1;33m,\u001b[0m \u001b[1;33m**\u001b[0m\u001b[0mkw\u001b[0m\u001b[1;33m\u001b[0m\u001b[1;33m\u001b[0m\u001b[0m\n\u001b[0m\u001b[0;32m    234\u001b[0m             )\n\u001b[0;32m    235\u001b[0m             \u001b[0mduration\u001b[0m \u001b[1;33m=\u001b[0m \u001b[0mtime\u001b[0m\u001b[1;33m.\u001b[0m\u001b[0mtime\u001b[0m\u001b[1;33m(\u001b[0m\u001b[1;33m)\u001b[0m \u001b[1;33m-\u001b[0m \u001b[0mstart\u001b[0m\u001b[1;33m\u001b[0m\u001b[1;33m\u001b[0m\u001b[0m\n",
      "\u001b[1;32m~\\AppData\\Roaming\\Python\\Python37\\site-packages\\urllib3\\connectionpool.py\u001b[0m in \u001b[0;36murlopen\u001b[1;34m(self, method, url, body, headers, retries, redirect, assert_same_host, timeout, pool_timeout, release_conn, chunked, body_pos, **response_kw)\u001b[0m\n\u001b[0;32m    675\u001b[0m                 \u001b[0mbody\u001b[0m\u001b[1;33m=\u001b[0m\u001b[0mbody\u001b[0m\u001b[1;33m,\u001b[0m\u001b[1;33m\u001b[0m\u001b[1;33m\u001b[0m\u001b[0m\n\u001b[0;32m    676\u001b[0m                 \u001b[0mheaders\u001b[0m\u001b[1;33m=\u001b[0m\u001b[0mheaders\u001b[0m\u001b[1;33m,\u001b[0m\u001b[1;33m\u001b[0m\u001b[1;33m\u001b[0m\u001b[0m\n\u001b[1;32m--> 677\u001b[1;33m                 \u001b[0mchunked\u001b[0m\u001b[1;33m=\u001b[0m\u001b[0mchunked\u001b[0m\u001b[1;33m,\u001b[0m\u001b[1;33m\u001b[0m\u001b[1;33m\u001b[0m\u001b[0m\n\u001b[0m\u001b[0;32m    678\u001b[0m             )\n\u001b[0;32m    679\u001b[0m \u001b[1;33m\u001b[0m\u001b[0m\n",
      "\u001b[1;32m~\\AppData\\Roaming\\Python\\Python37\\site-packages\\urllib3\\connectionpool.py\u001b[0m in \u001b[0;36m_make_request\u001b[1;34m(self, conn, method, url, timeout, chunked, **httplib_request_kw)\u001b[0m\n\u001b[0;32m    424\u001b[0m                     \u001b[1;31m# Python 3 (including for exceptions like SystemExit).\u001b[0m\u001b[1;33m\u001b[0m\u001b[1;33m\u001b[0m\u001b[1;33m\u001b[0m\u001b[0m\n\u001b[0;32m    425\u001b[0m                     \u001b[1;31m# Otherwise it looks like a bug in the code.\u001b[0m\u001b[1;33m\u001b[0m\u001b[1;33m\u001b[0m\u001b[1;33m\u001b[0m\u001b[0m\n\u001b[1;32m--> 426\u001b[1;33m                     \u001b[0msix\u001b[0m\u001b[1;33m.\u001b[0m\u001b[0mraise_from\u001b[0m\u001b[1;33m(\u001b[0m\u001b[0me\u001b[0m\u001b[1;33m,\u001b[0m \u001b[1;32mNone\u001b[0m\u001b[1;33m)\u001b[0m\u001b[1;33m\u001b[0m\u001b[1;33m\u001b[0m\u001b[0m\n\u001b[0m\u001b[0;32m    427\u001b[0m         \u001b[1;32mexcept\u001b[0m \u001b[1;33m(\u001b[0m\u001b[0mSocketTimeout\u001b[0m\u001b[1;33m,\u001b[0m \u001b[0mBaseSSLError\u001b[0m\u001b[1;33m,\u001b[0m \u001b[0mSocketError\u001b[0m\u001b[1;33m)\u001b[0m \u001b[1;32mas\u001b[0m \u001b[0me\u001b[0m\u001b[1;33m:\u001b[0m\u001b[1;33m\u001b[0m\u001b[1;33m\u001b[0m\u001b[0m\n\u001b[0;32m    428\u001b[0m             \u001b[0mself\u001b[0m\u001b[1;33m.\u001b[0m\u001b[0m_raise_timeout\u001b[0m\u001b[1;33m(\u001b[0m\u001b[0merr\u001b[0m\u001b[1;33m=\u001b[0m\u001b[0me\u001b[0m\u001b[1;33m,\u001b[0m \u001b[0murl\u001b[0m\u001b[1;33m=\u001b[0m\u001b[0murl\u001b[0m\u001b[1;33m,\u001b[0m \u001b[0mtimeout_value\u001b[0m\u001b[1;33m=\u001b[0m\u001b[0mread_timeout\u001b[0m\u001b[1;33m)\u001b[0m\u001b[1;33m\u001b[0m\u001b[1;33m\u001b[0m\u001b[0m\n",
      "\u001b[1;32m~\\AppData\\Roaming\\Python\\Python37\\site-packages\\urllib3\\packages\\six.py\u001b[0m in \u001b[0;36mraise_from\u001b[1;34m(value, from_value)\u001b[0m\n",
      "\u001b[1;32m~\\AppData\\Roaming\\Python\\Python37\\site-packages\\urllib3\\connectionpool.py\u001b[0m in \u001b[0;36m_make_request\u001b[1;34m(self, conn, method, url, timeout, chunked, **httplib_request_kw)\u001b[0m\n\u001b[0;32m    419\u001b[0m                 \u001b[1;31m# Python 3\u001b[0m\u001b[1;33m\u001b[0m\u001b[1;33m\u001b[0m\u001b[1;33m\u001b[0m\u001b[0m\n\u001b[0;32m    420\u001b[0m                 \u001b[1;32mtry\u001b[0m\u001b[1;33m:\u001b[0m\u001b[1;33m\u001b[0m\u001b[1;33m\u001b[0m\u001b[0m\n\u001b[1;32m--> 421\u001b[1;33m                     \u001b[0mhttplib_response\u001b[0m \u001b[1;33m=\u001b[0m \u001b[0mconn\u001b[0m\u001b[1;33m.\u001b[0m\u001b[0mgetresponse\u001b[0m\u001b[1;33m(\u001b[0m\u001b[1;33m)\u001b[0m\u001b[1;33m\u001b[0m\u001b[1;33m\u001b[0m\u001b[0m\n\u001b[0m\u001b[0;32m    422\u001b[0m                 \u001b[1;32mexcept\u001b[0m \u001b[0mBaseException\u001b[0m \u001b[1;32mas\u001b[0m \u001b[0me\u001b[0m\u001b[1;33m:\u001b[0m\u001b[1;33m\u001b[0m\u001b[1;33m\u001b[0m\u001b[0m\n\u001b[0;32m    423\u001b[0m                     \u001b[1;31m# Remove the TypeError from the exception chain in\u001b[0m\u001b[1;33m\u001b[0m\u001b[1;33m\u001b[0m\u001b[1;33m\u001b[0m\u001b[0m\n",
      "\u001b[1;32m~\\anaconda3\\lib\\http\\client.py\u001b[0m in \u001b[0;36mgetresponse\u001b[1;34m(self)\u001b[0m\n\u001b[0;32m   1342\u001b[0m         \u001b[1;32mtry\u001b[0m\u001b[1;33m:\u001b[0m\u001b[1;33m\u001b[0m\u001b[1;33m\u001b[0m\u001b[0m\n\u001b[0;32m   1343\u001b[0m             \u001b[1;32mtry\u001b[0m\u001b[1;33m:\u001b[0m\u001b[1;33m\u001b[0m\u001b[1;33m\u001b[0m\u001b[0m\n\u001b[1;32m-> 1344\u001b[1;33m                 \u001b[0mresponse\u001b[0m\u001b[1;33m.\u001b[0m\u001b[0mbegin\u001b[0m\u001b[1;33m(\u001b[0m\u001b[1;33m)\u001b[0m\u001b[1;33m\u001b[0m\u001b[1;33m\u001b[0m\u001b[0m\n\u001b[0m\u001b[0;32m   1345\u001b[0m             \u001b[1;32mexcept\u001b[0m \u001b[0mConnectionError\u001b[0m\u001b[1;33m:\u001b[0m\u001b[1;33m\u001b[0m\u001b[1;33m\u001b[0m\u001b[0m\n\u001b[0;32m   1346\u001b[0m                 \u001b[0mself\u001b[0m\u001b[1;33m.\u001b[0m\u001b[0mclose\u001b[0m\u001b[1;33m(\u001b[0m\u001b[1;33m)\u001b[0m\u001b[1;33m\u001b[0m\u001b[1;33m\u001b[0m\u001b[0m\n",
      "\u001b[1;32m~\\anaconda3\\lib\\http\\client.py\u001b[0m in \u001b[0;36mbegin\u001b[1;34m(self)\u001b[0m\n\u001b[0;32m    304\u001b[0m         \u001b[1;31m# read until we get a non-100 response\u001b[0m\u001b[1;33m\u001b[0m\u001b[1;33m\u001b[0m\u001b[1;33m\u001b[0m\u001b[0m\n\u001b[0;32m    305\u001b[0m         \u001b[1;32mwhile\u001b[0m \u001b[1;32mTrue\u001b[0m\u001b[1;33m:\u001b[0m\u001b[1;33m\u001b[0m\u001b[1;33m\u001b[0m\u001b[0m\n\u001b[1;32m--> 306\u001b[1;33m             \u001b[0mversion\u001b[0m\u001b[1;33m,\u001b[0m \u001b[0mstatus\u001b[0m\u001b[1;33m,\u001b[0m \u001b[0mreason\u001b[0m \u001b[1;33m=\u001b[0m \u001b[0mself\u001b[0m\u001b[1;33m.\u001b[0m\u001b[0m_read_status\u001b[0m\u001b[1;33m(\u001b[0m\u001b[1;33m)\u001b[0m\u001b[1;33m\u001b[0m\u001b[1;33m\u001b[0m\u001b[0m\n\u001b[0m\u001b[0;32m    307\u001b[0m             \u001b[1;32mif\u001b[0m \u001b[0mstatus\u001b[0m \u001b[1;33m!=\u001b[0m \u001b[0mCONTINUE\u001b[0m\u001b[1;33m:\u001b[0m\u001b[1;33m\u001b[0m\u001b[1;33m\u001b[0m\u001b[0m\n\u001b[0;32m    308\u001b[0m                 \u001b[1;32mbreak\u001b[0m\u001b[1;33m\u001b[0m\u001b[1;33m\u001b[0m\u001b[0m\n",
      "\u001b[1;32m~\\anaconda3\\lib\\http\\client.py\u001b[0m in \u001b[0;36m_read_status\u001b[1;34m(self)\u001b[0m\n\u001b[0;32m    265\u001b[0m \u001b[1;33m\u001b[0m\u001b[0m\n\u001b[0;32m    266\u001b[0m     \u001b[1;32mdef\u001b[0m \u001b[0m_read_status\u001b[0m\u001b[1;33m(\u001b[0m\u001b[0mself\u001b[0m\u001b[1;33m)\u001b[0m\u001b[1;33m:\u001b[0m\u001b[1;33m\u001b[0m\u001b[1;33m\u001b[0m\u001b[0m\n\u001b[1;32m--> 267\u001b[1;33m         \u001b[0mline\u001b[0m \u001b[1;33m=\u001b[0m \u001b[0mstr\u001b[0m\u001b[1;33m(\u001b[0m\u001b[0mself\u001b[0m\u001b[1;33m.\u001b[0m\u001b[0mfp\u001b[0m\u001b[1;33m.\u001b[0m\u001b[0mreadline\u001b[0m\u001b[1;33m(\u001b[0m\u001b[0m_MAXLINE\u001b[0m \u001b[1;33m+\u001b[0m \u001b[1;36m1\u001b[0m\u001b[1;33m)\u001b[0m\u001b[1;33m,\u001b[0m \u001b[1;34m\"iso-8859-1\"\u001b[0m\u001b[1;33m)\u001b[0m\u001b[1;33m\u001b[0m\u001b[1;33m\u001b[0m\u001b[0m\n\u001b[0m\u001b[0;32m    268\u001b[0m         \u001b[1;32mif\u001b[0m \u001b[0mlen\u001b[0m\u001b[1;33m(\u001b[0m\u001b[0mline\u001b[0m\u001b[1;33m)\u001b[0m \u001b[1;33m>\u001b[0m \u001b[0m_MAXLINE\u001b[0m\u001b[1;33m:\u001b[0m\u001b[1;33m\u001b[0m\u001b[1;33m\u001b[0m\u001b[0m\n\u001b[0;32m    269\u001b[0m             \u001b[1;32mraise\u001b[0m \u001b[0mLineTooLong\u001b[0m\u001b[1;33m(\u001b[0m\u001b[1;34m\"status line\"\u001b[0m\u001b[1;33m)\u001b[0m\u001b[1;33m\u001b[0m\u001b[1;33m\u001b[0m\u001b[0m\n",
      "\u001b[1;32m~\\anaconda3\\lib\\socket.py\u001b[0m in \u001b[0;36mreadinto\u001b[1;34m(self, b)\u001b[0m\n\u001b[0;32m    587\u001b[0m         \u001b[1;32mwhile\u001b[0m \u001b[1;32mTrue\u001b[0m\u001b[1;33m:\u001b[0m\u001b[1;33m\u001b[0m\u001b[1;33m\u001b[0m\u001b[0m\n\u001b[0;32m    588\u001b[0m             \u001b[1;32mtry\u001b[0m\u001b[1;33m:\u001b[0m\u001b[1;33m\u001b[0m\u001b[1;33m\u001b[0m\u001b[0m\n\u001b[1;32m--> 589\u001b[1;33m                 \u001b[1;32mreturn\u001b[0m \u001b[0mself\u001b[0m\u001b[1;33m.\u001b[0m\u001b[0m_sock\u001b[0m\u001b[1;33m.\u001b[0m\u001b[0mrecv_into\u001b[0m\u001b[1;33m(\u001b[0m\u001b[0mb\u001b[0m\u001b[1;33m)\u001b[0m\u001b[1;33m\u001b[0m\u001b[1;33m\u001b[0m\u001b[0m\n\u001b[0m\u001b[0;32m    590\u001b[0m             \u001b[1;32mexcept\u001b[0m \u001b[0mtimeout\u001b[0m\u001b[1;33m:\u001b[0m\u001b[1;33m\u001b[0m\u001b[1;33m\u001b[0m\u001b[0m\n\u001b[0;32m    591\u001b[0m                 \u001b[0mself\u001b[0m\u001b[1;33m.\u001b[0m\u001b[0m_timeout_occurred\u001b[0m \u001b[1;33m=\u001b[0m \u001b[1;32mTrue\u001b[0m\u001b[1;33m\u001b[0m\u001b[1;33m\u001b[0m\u001b[0m\n",
      "\u001b[1;31mKeyboardInterrupt\u001b[0m: "
     ]
    }
   ],
   "source": [
    "job_name = \"storing_test8\"\n",
    "driver_name = \"discord\"     # discord, youtube, instagram\n",
    "storeComment = store_elasticsearch.StoreComment(job_name, driver_name, \"localhost\", 9200)\n",
    "storeComment.store_comment()"
   ]
  }
 ],
 "metadata": {
  "kernelspec": {
   "display_name": "Python 3",
   "language": "python",
   "name": "python3"
  },
  "language_info": {
   "codemirror_mode": {
    "name": "ipython",
    "version": 3
   },
   "file_extension": ".py",
   "mimetype": "text/x-python",
   "name": "python",
   "nbconvert_exporter": "python",
   "pygments_lexer": "ipython3",
   "version": "3.7.7"
  }
 },
 "nbformat": 4,
 "nbformat_minor": 2
}
